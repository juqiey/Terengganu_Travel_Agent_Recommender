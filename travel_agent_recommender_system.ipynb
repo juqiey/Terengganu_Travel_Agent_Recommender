{
 "cells": [
  {
   "cell_type": "code",
   "execution_count": 2,
   "id": "abdf2329",
   "metadata": {},
   "outputs": [],
   "source": [
    "import pandas as pd\n",
    "from sklearn.feature_extraction.text import TfidfVectorizer\n",
    "from sklearn.metrics.pairwise import linear_kernel"
   ]
  },
  {
   "cell_type": "code",
   "execution_count": 12,
   "id": "00d419a0",
   "metadata": {},
   "outputs": [],
   "source": [
    "# Load the dataset\n",
    "dataset_path = '../Project/dataset_travel_agent.csv'\n",
    "df = pd.read_csv(dataset_path)"
   ]
  },
  {
   "cell_type": "code",
   "execution_count": 13,
   "id": "fa6cd696",
   "metadata": {},
   "outputs": [],
   "source": [
    "# Preprocessing: Fill missing values\n",
    "df['rating'] = df['rating'].replace('no review yet', '0').astype(float)\n",
    "df['category'] = df['category'].fillna('')\n",
    "df['area'] = df['area'].fillna('')"
   ]
  },
  {
   "cell_type": "code",
   "execution_count": 14,
   "id": "c04836cd",
   "metadata": {},
   "outputs": [],
   "source": [
    "# Combine features to create a content string\n",
    "df['content'] = df['category'] + ' ' + df['area'] + ' Rating:' + df['rating'].astype(str)"
   ]
  },
  {
   "cell_type": "code",
   "execution_count": 15,
   "id": "fd4c4b8a",
   "metadata": {},
   "outputs": [],
   "source": [
    "# Vectorize the content using TF-IDF\n",
    "vectorizer = TfidfVectorizer()\n",
    "tfidf_matrix = vectorizer.fit_transform(df['content'])\n"
   ]
  },
  {
   "cell_type": "code",
   "execution_count": 16,
   "id": "0245243c",
   "metadata": {},
   "outputs": [],
   "source": [
    "# Compute cosine similarity between all travel agents\n",
    "cosine_sim = linear_kernel(tfidf_matrix, tfidf_matrix)"
   ]
  },
  {
   "cell_type": "code",
   "execution_count": 17,
   "id": "b9e4462a",
   "metadata": {},
   "outputs": [],
   "source": [
    "# Function to recommend travel agents\n",
    "def recommend_travel_agents(agent_name, df, cosine_sim, top_n=5):\n",
    "    \"\"\"Recommends travel agents similar to the given agent name.\n",
    "\n",
    "    Args:\n",
    "        agent_name (str): Name of the travel agent to base recommendations on.\n",
    "        df (DataFrame): The dataset containing travel agent details.\n",
    "        cosine_sim (ndarray): Precomputed cosine similarity matrix.\n",
    "        top_n (int): Number of recommendations to return.\n",
    "\n",
    "    Returns:\n",
    "        DataFrame: Top recommended travel agents with their details.\n",
    "    \"\"\"\n",
    "    # Find the index of the travel agent\n",
    "    indices = pd.Series(df.index, index=df['name']).drop_duplicates()\n",
    "    \n",
    "    if agent_name not in indices:\n",
    "        return f\"Travel agent '{agent_name}' not found.\"\n",
    "    \n",
    "    idx = indices[agent_name]\n",
    "\n",
    "    # Get similarity scores\n",
    "    sim_scores = list(enumerate(cosine_sim[idx]))\n",
    "\n",
    "    # Sort travel agents by similarity scores\n",
    "    sim_scores = sorted(sim_scores, key=lambda x: x[1], reverse=True)\n",
    "\n",
    "    # Get the indices of the most similar travel agents\n",
    "    sim_indices = [i[0] for i in sim_scores[1:top_n+1]]\n",
    "\n",
    "    # Return the top recommended travel agents\n",
    "    return df.iloc[sim_indices][['name', 'category', 'area', 'rating']]"
   ]
  },
  {
   "cell_type": "code",
   "execution_count": 19,
   "id": "69a48043",
   "metadata": {},
   "outputs": [
    {
     "name": "stdout",
     "output_type": "stream",
     "text": [
      "Travel agent 'ABA' not found.\n"
     ]
    }
   ],
   "source": [
    "# Example: Recommend travel agents similar to 'AG HOLIDAY SDN BHD'\n",
    "if __name__ == \"__main__\":\n",
    "    agent_name = 'AG HOLIDAY SDN BHD'\n",
    "    recommendations = recommend_travel_agents(agent_name, df, cosine_sim)\n",
    "    \n",
    "    if isinstance(recommendations, str):\n",
    "        print(recommendations)\n",
    "    else:\n",
    "        print(\"Top Recommendations:\")\n",
    "        print(recommendations)"
   ]
  },
  {
   "cell_type": "code",
   "execution_count": null,
   "id": "a3539ff6",
   "metadata": {},
   "outputs": [],
   "source": []
  }
 ],
 "metadata": {
  "kernelspec": {
   "display_name": "Python 3 (ipykernel)",
   "language": "python",
   "name": "python3"
  },
  "language_info": {
   "codemirror_mode": {
    "name": "ipython",
    "version": 3
   },
   "file_extension": ".py",
   "mimetype": "text/x-python",
   "name": "python",
   "nbconvert_exporter": "python",
   "pygments_lexer": "ipython3",
   "version": "3.10.9"
  }
 },
 "nbformat": 4,
 "nbformat_minor": 5
}
